{
 "cells": [
  {
   "cell_type": "code",
   "execution_count": 1,
   "id": "ee6373c9",
   "metadata": {},
   "outputs": [
    {
     "name": "stdout",
     "output_type": "stream",
     "text": [
      "   customerID  gender  SeniorCitizen Partner Dependents  tenure PhoneService  \\\n",
      "0  7590-VHVEG  Female              0     Yes         No       1           No   \n",
      "1  5575-GNVDE    Male              0      No         No      34          Yes   \n",
      "2  3668-QPYBK    Male              0      No         No       2          Yes   \n",
      "3  7795-CFOCW    Male              0      No         No      45           No   \n",
      "4  9237-HQITU  Female              0      No         No       2          Yes   \n",
      "\n",
      "      MultipleLines InternetService OnlineSecurity  ... DeviceProtection  \\\n",
      "0  No phone service             DSL             No  ...               No   \n",
      "1                No             DSL            Yes  ...              Yes   \n",
      "2                No             DSL            Yes  ...               No   \n",
      "3  No phone service             DSL            Yes  ...              Yes   \n",
      "4                No     Fiber optic             No  ...               No   \n",
      "\n",
      "  TechSupport StreamingTV StreamingMovies        Contract PaperlessBilling  \\\n",
      "0          No          No              No  Month-to-month              Yes   \n",
      "1          No          No              No        One year               No   \n",
      "2          No          No              No  Month-to-month              Yes   \n",
      "3         Yes          No              No        One year               No   \n",
      "4          No          No              No  Month-to-month              Yes   \n",
      "\n",
      "               PaymentMethod MonthlyCharges  TotalCharges Churn  \n",
      "0           Electronic check          29.85         29.85    No  \n",
      "1               Mailed check          56.95        1889.5    No  \n",
      "2               Mailed check          53.85        108.15   Yes  \n",
      "3  Bank transfer (automatic)          42.30       1840.75    No  \n",
      "4           Electronic check          70.70        151.65   Yes  \n",
      "\n",
      "[5 rows x 21 columns]\n",
      "<class 'pandas.core.frame.DataFrame'>\n",
      "RangeIndex: 7043 entries, 0 to 7042\n",
      "Data columns (total 21 columns):\n",
      " #   Column            Non-Null Count  Dtype  \n",
      "---  ------            --------------  -----  \n",
      " 0   customerID        7043 non-null   object \n",
      " 1   gender            7043 non-null   object \n",
      " 2   SeniorCitizen     7043 non-null   int64  \n",
      " 3   Partner           7043 non-null   object \n",
      " 4   Dependents        7043 non-null   object \n",
      " 5   tenure            7043 non-null   int64  \n",
      " 6   PhoneService      7043 non-null   object \n",
      " 7   MultipleLines     7043 non-null   object \n",
      " 8   InternetService   7043 non-null   object \n",
      " 9   OnlineSecurity    7043 non-null   object \n",
      " 10  OnlineBackup      7043 non-null   object \n",
      " 11  DeviceProtection  7043 non-null   object \n",
      " 12  TechSupport       7043 non-null   object \n",
      " 13  StreamingTV       7043 non-null   object \n",
      " 14  StreamingMovies   7043 non-null   object \n",
      " 15  Contract          7043 non-null   object \n",
      " 16  PaperlessBilling  7043 non-null   object \n",
      " 17  PaymentMethod     7043 non-null   object \n",
      " 18  MonthlyCharges    7043 non-null   float64\n",
      " 19  TotalCharges      7043 non-null   object \n",
      " 20  Churn             7043 non-null   object \n",
      "dtypes: float64(1), int64(2), object(18)\n",
      "memory usage: 1.1+ MB\n",
      "None\n",
      "       SeniorCitizen       tenure  MonthlyCharges\n",
      "count    7043.000000  7043.000000     7043.000000\n",
      "mean        0.162147    32.371149       64.761692\n",
      "std         0.368612    24.559481       30.090047\n",
      "min         0.000000     0.000000       18.250000\n",
      "25%         0.000000     9.000000       35.500000\n",
      "50%         0.000000    29.000000       70.350000\n",
      "75%         0.000000    55.000000       89.850000\n",
      "max         1.000000    72.000000      118.750000\n"
     ]
    }
   ],
   "source": [
    "import pandas as pd\n",
    "import numpy as np\n",
    "import matplotlib.pyplot as plt\n",
    "from sklearn.preprocessing import LabelEncoder\n",
    "from sklearn.model_selection import train_test_split\n",
    "from sklearn.linear_model import LogisticRegression\n",
    "\n",
    "# Step 1: Data Collection and Exploration\n",
    "# Load the data from the CSV file\n",
    "data = pd.read_csv('C:\\\\Users\\\\tehma\\\\OneDrive\\\\Desktop\\\\project 4\\\\resources\\\\project_churn.csv')\n",
    "\n",
    "# Perform initial data exploration\n",
    "print(data.head())  # Display the first few rows of the dataset\n",
    "print(data.info())  # Get information about the dataset, such as column names and data types\n",
    "print(data.describe())  # Statistical summary of the dataset\n",
    "\n",
    "# Identify the target variable and relevant features\n",
    "target_variable = 'churn'  # Replace 'churn' with the actual column name representing churn status\n",
    "features = ['feature1', 'feature2', 'feature3']  # Replace with the relevant feature column names\n",
    "\n",
    "# Further data preprocessing steps can be performed here\n",
    "# Cleaning, normalization, standardization, feature engineering, etc.\n"
   ]
  },
  {
   "cell_type": "code",
   "execution_count": 2,
   "id": "e8d53e6f",
   "metadata": {},
   "outputs": [
    {
     "name": "stdout",
     "output_type": "stream",
     "text": [
      "There is a positive correlation between MonthlyCharges and Churn.\n"
     ]
    }
   ],
   "source": [
    "# Convert 'Churn' column to numerical values using label encoding\n",
    "le = LabelEncoder()\n",
    "data['Churn'] = le.fit_transform(data['Churn'])\n",
    "\n",
    "# Check correlation between MonthlyCharges and Churn\n",
    "correlation = data['MonthlyCharges'].corr(data['Churn'])\n",
    "\n",
    "if correlation > 0:\n",
    "    print(\"There is a positive correlation between MonthlyCharges and Churn.\")\n",
    "elif correlation < 0:\n",
    "    print(\"There is a negative correlation between MonthlyCharges and Churn.\")\n",
    "else:\n",
    "    print(\"There is no correlation between MonthlyCharges and Churn.\")"
   ]
  },
  {
   "cell_type": "code",
   "execution_count": null,
   "id": "85f7a470",
   "metadata": {},
   "outputs": [],
   "source": []
  },
  {
   "cell_type": "code",
   "execution_count": 3,
   "id": "353983a5",
   "metadata": {},
   "outputs": [
    {
     "data": {
      "image/png": "[encoded data removed]",
      "text/plain": [
       "<Figure size 640x480 with 1 Axes>"
      ]
     },
     "metadata": {},
     "output_type": "display_data"
    }
   ],
   "source": [
    "import seaborn as sns\n",
    "\n",
    "# Create a new categorical series with updated labels\n",
    "churn_labels = {0: 'No', 1: 'Yes'}\n",
    "data['Churn'] = data['Churn'].map(churn_labels)\n",
    "\n",
    "# Create a grouped bar plot\n",
    "sns.barplot(x='Churn', y='MonthlyCharges', data=data)\n",
    "plt.xlabel('Churn')\n",
    "plt.ylabel('Monthly Charges')\n",
    "plt.title('Correlation between Monthly Charges and Churn')\n",
    "plt.show()"
   ]
  },
  {
   "cell_type": "code",
   "execution_count": 4,
   "id": "092a2eff",
   "metadata": {},
   "outputs": [
    {
     "name": "stdout",
     "output_type": "stream",
     "text": [
      "Accuracy: 0.7352732434350603\n",
      "Enter the monthly charges: 50\n",
      "Churn prediction: ['No']\n"
     ]
    },
    {
     "name": "stderr",
     "output_type": "stream",
     "text": [
      "C:\\Users\\tehma\\anaconda3\\lib\\site-packages\\sklearn\\base.py:450: UserWarning: X does not have valid feature names, but LogisticRegression was fitted with feature names\n",
      "  warnings.warn(\n"
     ]
    }
   ],
   "source": [
    "\n",
    "# Split the data into training and testing sets\n",
    "X = data[['MonthlyCharges']]\n",
    "y = data['Churn']\n",
    "X_train, X_test, y_train, y_test = train_test_split(X, y, test_size=0.2, random_state=42)\n",
    "\n",
    "# Initialize the machine learning algorithm\n",
    "model = LogisticRegression()\n",
    "\n",
    "# Train the model\n",
    "model.fit(X_train, y_train)\n",
    "\n",
    "# Evaluate the model\n",
    "accuracy = model.score(X_test, y_test)\n",
    "print(\"Accuracy:\", accuracy)\n",
    "\n",
    "# Prompt the user for input and make predictions\n",
    "monthly_charges = float(input(\"Enter the monthly charges: \"))\n",
    "prediction = model.predict([[monthly_charges]])\n",
    "print(\"Churn prediction:\", prediction)"
   ]
  },
  {
   "cell_type": "code",
   "execution_count": null,
   "id": "52566ccc",
   "metadata": {},
   "outputs": [],
   "source": [
    "from sklearn.preprocessing import OneHotEncoder\n",
    "from sklearn.compose import ColumnTransformer\n",
    "\n",
    "# Split the data into training and testing sets\n",
    "X = data[['MonthlyCharges', 'gender', 'Partner', 'Dependents', 'tenure', 'PhoneService',\n",
    "          'MultipleLines', 'InternetService', 'OnlineSecurity', 'OnlineBackup',\n",
    "          'DeviceProtection', 'TechSupport', 'StreamingTV', 'StreamingMovies', 'Contract']]\n",
    "y = data['Churn']\n",
    "X_train, X_test, y_train, y_test = train_test_split(X, y, test_size=0.2, random_state=42)\n",
    "\n",
    "# Define the columns to be one-hot encoded\n",
    "categorical_cols = ['gender', 'Partner', 'Dependents', 'PhoneService', 'MultipleLines',\n",
    "                    'InternetService', 'OnlineSecurity', 'OnlineBackup', 'DeviceProtection',\n",
    "                    'TechSupport', 'StreamingTV', 'StreamingMovies', 'Contract']\n",
    "\n",
    "# Create a column transformer\n",
    "preprocessor = ColumnTransformer(\n",
    "    transformers=[('encoder', OneHotEncoder(), categorical_cols)],\n",
    "    remainder='passthrough'\n",
    ")\n",
    "\n",
    "# Apply the column transformer to preprocess the data\n",
    "X_train = preprocessor.fit_transform(X_train)\n",
    "X_test = preprocessor.transform(X_test)\n",
    "\n",
    "# Initialize the machine learning algorithm\n",
    "model = LogisticRegression()\n",
    "\n",
    "# Train the model\n",
    "model.fit(X_train, y_train)\n",
    "\n",
    "# Evaluate the model\n",
    "accuracy = model.score(X_test, y_test)\n",
    "print(\"Accuracy:\", accuracy)\n",
    "\n",
    "# Prompt the user for input and make predictions\n",
    "monthly_charges = float(input(\"Enter the monthly charges: \"))\n",
    "gender = input(\"Enter the gender (Male/Female): \")\n",
    "partner = input(\"Has a partner? (Yes/No): \")\n",
    "dependents = input(\"Has dependents? (Yes/No): \")\n",
    "tenure = int(input(\"Enter the tenure in months: \"))\n",
    "phone_service = input(\"Has phone service? (Yes/No): \")\n",
    "multiple_lines = input(\"Has multiple lines? (Yes/No): \")\n",
    "internet_service = input(\"Type of internet service (DSL/Fiber optic/No): \")\n",
    "online_security = input(\"Has online security? (Yes/No): \")\n",
    "online_backup = input(\"Has online backup? (Yes/No): \")\n",
    "device_protection = input(\"Has device protection? (Yes/No): \")\n",
    "tech_support = input(\"Has tech support? (Yes/No): \")\n",
    "streaming_tv = input(\"Has streaming TV? (Yes/No): \")\n",
    "streaming_movies = input(\"Has streaming movies? (Yes/No): \")\n",
    "contract = input(\"Type of contract (Month-to-month/One year/Two year): \")\n",
    "\n",
    "# Preprocess the user input\n",
    "user_input = {'MonthlyCharges': monthly_charges, 'gender': gender, 'Partner': partner,\n",
    "              'Dependents': dependents, 'tenure': tenure, 'PhoneService': phone_service,\n",
    "              'MultipleLines': multiple_lines, 'InternetService': internet_service,\n",
    "              'OnlineSecurity': online_security, 'OnlineBackup': online_backup,\n",
    "              'DeviceProtection': device_protection, 'TechSupport': tech_support,\n",
    "              'StreamingTV': streaming_tv, 'StreamingMovies': streaming_movies,\n",
    "              'Contract': contract}\n",
    "\n",
    "user_data = pd.DataFrame(user_input, index=[0])\n",
    "user_data = preprocessor.transform(user_data)\n",
    "\n",
    "# Make predictions on the user input\n",
    "prediction = model.predict(user_data)\n",
    "print(\"Churn prediction:\", prediction)"
   ]
  },
  {
   "cell_type": "code",
   "execution_count": null,
   "id": "ada2a4cc",
   "metadata": {},
   "outputs": [],
   "source": []
  }
 ],
 "metadata": {
  "kernelspec": {
   "display_name": "Python 3 (ipykernel)",
   "language": "python",
   "name": "python3"
  },
  "language_info": {
   "codemirror_mode": {
    "name": "ipython",
    "version": 3
   },
   "file_extension": ".py",
   "mimetype": "text/x-python",
   "name": "python",
   "nbconvert_exporter": "python",
   "pygments_lexer": "ipython3",
   "version": "3.9.13"
  }
 },
 "nbformat": 4,
 "nbformat_minor": 5
}
