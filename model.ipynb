{
 "cells": [
  {
   "cell_type": "code",
   "execution_count": 202,
   "metadata": {},
   "outputs": [],
   "source": [
    "import pandas as pd\n",
    "import matplotlib.pyplot as plt\n",
    "%matplotlib inline \n",
    "import seaborn as sns"
   ]
  },
  {
   "cell_type": "code",
   "execution_count": 203,
   "metadata": {},
   "outputs": [
    {
     "data": {
      "text/html": [
       "<div>\n",
       "<style scoped>\n",
       "    .dataframe tbody tr th:only-of-type {\n",
       "        vertical-align: middle;\n",
       "    }\n",
       "\n",
       "    .dataframe tbody tr th {\n",
       "        vertical-align: top;\n",
       "    }\n",
       "\n",
       "    .dataframe thead th {\n",
       "        text-align: right;\n",
       "    }\n",
       "</style>\n",
       "<table border=\"1\" class=\"dataframe\">\n",
       "  <thead>\n",
       "    <tr style=\"text-align: right;\">\n",
       "      <th></th>\n",
       "      <th>customerID</th>\n",
       "      <th>gender</th>\n",
       "      <th>SeniorCitizen</th>\n",
       "      <th>Partner</th>\n",
       "      <th>Dependents</th>\n",
       "      <th>tenure</th>\n",
       "      <th>PhoneService</th>\n",
       "      <th>MultipleLines</th>\n",
       "      <th>InternetService</th>\n",
       "      <th>OnlineSecurity</th>\n",
       "      <th>...</th>\n",
       "      <th>DeviceProtection</th>\n",
       "      <th>TechSupport</th>\n",
       "      <th>StreamingTV</th>\n",
       "      <th>StreamingMovies</th>\n",
       "      <th>Contract</th>\n",
       "      <th>PaperlessBilling</th>\n",
       "      <th>PaymentMethod</th>\n",
       "      <th>MonthlyCharges</th>\n",
       "      <th>TotalCharges</th>\n",
       "      <th>Churn</th>\n",
       "    </tr>\n",
       "  </thead>\n",
       "  <tbody>\n",
       "    <tr>\n",
       "      <th>0</th>\n",
       "      <td>7590-VHVEG</td>\n",
       "      <td>Female</td>\n",
       "      <td>0</td>\n",
       "      <td>Yes</td>\n",
       "      <td>No</td>\n",
       "      <td>1</td>\n",
       "      <td>No</td>\n",
       "      <td>No phone service</td>\n",
       "      <td>DSL</td>\n",
       "      <td>No</td>\n",
       "      <td>...</td>\n",
       "      <td>No</td>\n",
       "      <td>No</td>\n",
       "      <td>No</td>\n",
       "      <td>No</td>\n",
       "      <td>Month-to-month</td>\n",
       "      <td>Yes</td>\n",
       "      <td>Electronic check</td>\n",
       "      <td>29.85</td>\n",
       "      <td>29.85</td>\n",
       "      <td>No</td>\n",
       "    </tr>\n",
       "    <tr>\n",
       "      <th>1</th>\n",
       "      <td>5575-GNVDE</td>\n",
       "      <td>Male</td>\n",
       "      <td>0</td>\n",
       "      <td>No</td>\n",
       "      <td>No</td>\n",
       "      <td>34</td>\n",
       "      <td>Yes</td>\n",
       "      <td>No</td>\n",
       "      <td>DSL</td>\n",
       "      <td>Yes</td>\n",
       "      <td>...</td>\n",
       "      <td>Yes</td>\n",
       "      <td>No</td>\n",
       "      <td>No</td>\n",
       "      <td>No</td>\n",
       "      <td>One year</td>\n",
       "      <td>No</td>\n",
       "      <td>Mailed check</td>\n",
       "      <td>56.95</td>\n",
       "      <td>1889.5</td>\n",
       "      <td>No</td>\n",
       "    </tr>\n",
       "    <tr>\n",
       "      <th>2</th>\n",
       "      <td>3668-QPYBK</td>\n",
       "      <td>Male</td>\n",
       "      <td>0</td>\n",
       "      <td>No</td>\n",
       "      <td>No</td>\n",
       "      <td>2</td>\n",
       "      <td>Yes</td>\n",
       "      <td>No</td>\n",
       "      <td>DSL</td>\n",
       "      <td>Yes</td>\n",
       "      <td>...</td>\n",
       "      <td>No</td>\n",
       "      <td>No</td>\n",
       "      <td>No</td>\n",
       "      <td>No</td>\n",
       "      <td>Month-to-month</td>\n",
       "      <td>Yes</td>\n",
       "      <td>Mailed check</td>\n",
       "      <td>53.85</td>\n",
       "      <td>108.15</td>\n",
       "      <td>Yes</td>\n",
       "    </tr>\n",
       "    <tr>\n",
       "      <th>3</th>\n",
       "      <td>7795-CFOCW</td>\n",
       "      <td>Male</td>\n",
       "      <td>0</td>\n",
       "      <td>No</td>\n",
       "      <td>No</td>\n",
       "      <td>45</td>\n",
       "      <td>No</td>\n",
       "      <td>No phone service</td>\n",
       "      <td>DSL</td>\n",
       "      <td>Yes</td>\n",
       "      <td>...</td>\n",
       "      <td>Yes</td>\n",
       "      <td>Yes</td>\n",
       "      <td>No</td>\n",
       "      <td>No</td>\n",
       "      <td>One year</td>\n",
       "      <td>No</td>\n",
       "      <td>Bank transfer (automatic)</td>\n",
       "      <td>42.30</td>\n",
       "      <td>1840.75</td>\n",
       "      <td>No</td>\n",
       "    </tr>\n",
       "    <tr>\n",
       "      <th>4</th>\n",
       "      <td>9237-HQITU</td>\n",
       "      <td>Female</td>\n",
       "      <td>0</td>\n",
       "      <td>No</td>\n",
       "      <td>No</td>\n",
       "      <td>2</td>\n",
       "      <td>Yes</td>\n",
       "      <td>No</td>\n",
       "      <td>Fiber optic</td>\n",
       "      <td>No</td>\n",
       "      <td>...</td>\n",
       "      <td>No</td>\n",
       "      <td>No</td>\n",
       "      <td>No</td>\n",
       "      <td>No</td>\n",
       "      <td>Month-to-month</td>\n",
       "      <td>Yes</td>\n",
       "      <td>Electronic check</td>\n",
       "      <td>70.70</td>\n",
       "      <td>151.65</td>\n",
       "      <td>Yes</td>\n",
       "    </tr>\n",
       "  </tbody>\n",
       "</table>\n",
       "<p>5 rows × 21 columns</p>\n",
       "</div>"
      ],
      "text/plain": [
       "   customerID  gender  SeniorCitizen Partner Dependents  tenure PhoneService  \\\n",
       "0  7590-VHVEG  Female              0     Yes         No       1           No   \n",
       "1  5575-GNVDE    Male              0      No         No      34          Yes   \n",
       "2  3668-QPYBK    Male              0      No         No       2          Yes   \n",
       "3  7795-CFOCW    Male              0      No         No      45           No   \n",
       "4  9237-HQITU  Female              0      No         No       2          Yes   \n",
       "\n",
       "      MultipleLines InternetService OnlineSecurity  ... DeviceProtection  \\\n",
       "0  No phone service             DSL             No  ...               No   \n",
       "1                No             DSL            Yes  ...              Yes   \n",
       "2                No             DSL            Yes  ...               No   \n",
       "3  No phone service             DSL            Yes  ...              Yes   \n",
       "4                No     Fiber optic             No  ...               No   \n",
       "\n",
       "  TechSupport StreamingTV StreamingMovies        Contract PaperlessBilling  \\\n",
       "0          No          No              No  Month-to-month              Yes   \n",
       "1          No          No              No        One year               No   \n",
       "2          No          No              No  Month-to-month              Yes   \n",
       "3         Yes          No              No        One year               No   \n",
       "4          No          No              No  Month-to-month              Yes   \n",
       "\n",
       "               PaymentMethod MonthlyCharges  TotalCharges Churn  \n",
       "0           Electronic check          29.85         29.85    No  \n",
       "1               Mailed check          56.95        1889.5    No  \n",
       "2               Mailed check          53.85        108.15   Yes  \n",
       "3  Bank transfer (automatic)          42.30       1840.75    No  \n",
       "4           Electronic check          70.70        151.65   Yes  \n",
       "\n",
       "[5 rows x 21 columns]"
      ]
     },
     "execution_count": 203,
     "metadata": {},
     "output_type": "execute_result"
    }
   ],
   "source": [
    "df = pd.read_csv('Resources/Telco-Customer-Churn.csv')\n",
    "df.head()"
   ]
  },
  {
   "cell_type": "code",
   "execution_count": 204,
   "metadata": {},
   "outputs": [
    {
     "data": {
      "text/html": [
       "<div>\n",
       "<style scoped>\n",
       "    .dataframe tbody tr th:only-of-type {\n",
       "        vertical-align: middle;\n",
       "    }\n",
       "\n",
       "    .dataframe tbody tr th {\n",
       "        vertical-align: top;\n",
       "    }\n",
       "\n",
       "    .dataframe thead th {\n",
       "        text-align: right;\n",
       "    }\n",
       "</style>\n",
       "<table border=\"1\" class=\"dataframe\">\n",
       "  <thead>\n",
       "    <tr style=\"text-align: right;\">\n",
       "      <th></th>\n",
       "      <th>SeniorCitizen</th>\n",
       "      <th>tenure</th>\n",
       "      <th>MonthlyCharges</th>\n",
       "    </tr>\n",
       "  </thead>\n",
       "  <tbody>\n",
       "    <tr>\n",
       "      <th>count</th>\n",
       "      <td>7043.000000</td>\n",
       "      <td>7043.000000</td>\n",
       "      <td>7043.000000</td>\n",
       "    </tr>\n",
       "    <tr>\n",
       "      <th>mean</th>\n",
       "      <td>0.162147</td>\n",
       "      <td>32.371149</td>\n",
       "      <td>64.761692</td>\n",
       "    </tr>\n",
       "    <tr>\n",
       "      <th>std</th>\n",
       "      <td>0.368612</td>\n",
       "      <td>24.559481</td>\n",
       "      <td>30.090047</td>\n",
       "    </tr>\n",
       "    <tr>\n",
       "      <th>min</th>\n",
       "      <td>0.000000</td>\n",
       "      <td>0.000000</td>\n",
       "      <td>18.250000</td>\n",
       "    </tr>\n",
       "    <tr>\n",
       "      <th>25%</th>\n",
       "      <td>0.000000</td>\n",
       "      <td>9.000000</td>\n",
       "      <td>35.500000</td>\n",
       "    </tr>\n",
       "    <tr>\n",
       "      <th>50%</th>\n",
       "      <td>0.000000</td>\n",
       "      <td>29.000000</td>\n",
       "      <td>70.350000</td>\n",
       "    </tr>\n",
       "    <tr>\n",
       "      <th>75%</th>\n",
       "      <td>0.000000</td>\n",
       "      <td>55.000000</td>\n",
       "      <td>89.850000</td>\n",
       "    </tr>\n",
       "    <tr>\n",
       "      <th>max</th>\n",
       "      <td>1.000000</td>\n",
       "      <td>72.000000</td>\n",
       "      <td>118.750000</td>\n",
       "    </tr>\n",
       "  </tbody>\n",
       "</table>\n",
       "</div>"
      ],
      "text/plain": [
       "       SeniorCitizen       tenure  MonthlyCharges\n",
       "count    7043.000000  7043.000000     7043.000000\n",
       "mean        0.162147    32.371149       64.761692\n",
       "std         0.368612    24.559481       30.090047\n",
       "min         0.000000     0.000000       18.250000\n",
       "25%         0.000000     9.000000       35.500000\n",
       "50%         0.000000    29.000000       70.350000\n",
       "75%         0.000000    55.000000       89.850000\n",
       "max         1.000000    72.000000      118.750000"
      ]
     },
     "execution_count": 204,
     "metadata": {},
     "output_type": "execute_result"
    }
   ],
   "source": [
    "df.describe()"
   ]
  },
  {
   "cell_type": "code",
   "execution_count": 205,
   "metadata": {},
   "outputs": [
    {
     "data": {
      "text/plain": [
       "Index(['customerID', 'gender', 'SeniorCitizen', 'Partner', 'Dependents',\n",
       "       'tenure', 'PhoneService', 'MultipleLines', 'InternetService',\n",
       "       'OnlineSecurity', 'OnlineBackup', 'DeviceProtection', 'TechSupport',\n",
       "       'StreamingTV', 'StreamingMovies', 'Contract', 'PaperlessBilling',\n",
       "       'PaymentMethod', 'MonthlyCharges', 'TotalCharges', 'Churn'],\n",
       "      dtype='object')"
      ]
     },
     "execution_count": 205,
     "metadata": {},
     "output_type": "execute_result"
    }
   ],
   "source": [
    "df.columns"
   ]
  },
  {
   "cell_type": "code",
   "execution_count": 206,
   "metadata": {},
   "outputs": [
    {
     "name": "stdout",
     "output_type": "stream",
     "text": [
      "<class 'pandas.core.frame.DataFrame'>\n",
      "RangeIndex: 7043 entries, 0 to 7042\n",
      "Data columns (total 21 columns):\n",
      " #   Column            Non-Null Count  Dtype  \n",
      "---  ------            --------------  -----  \n",
      " 0   customerID        7043 non-null   object \n",
      " 1   gender            7043 non-null   object \n",
      " 2   SeniorCitizen     7043 non-null   int64  \n",
      " 3   Partner           7043 non-null   object \n",
      " 4   Dependents        7043 non-null   object \n",
      " 5   tenure            7043 non-null   int64  \n",
      " 6   PhoneService      7043 non-null   object \n",
      " 7   MultipleLines     7043 non-null   object \n",
      " 8   InternetService   7043 non-null   object \n",
      " 9   OnlineSecurity    7043 non-null   object \n",
      " 10  OnlineBackup      7043 non-null   object \n",
      " 11  DeviceProtection  7043 non-null   object \n",
      " 12  TechSupport       7043 non-null   object \n",
      " 13  StreamingTV       7043 non-null   object \n",
      " 14  StreamingMovies   7043 non-null   object \n",
      " 15  Contract          7043 non-null   object \n",
      " 16  PaperlessBilling  7043 non-null   object \n",
      " 17  PaymentMethod     7043 non-null   object \n",
      " 18  MonthlyCharges    7043 non-null   float64\n",
      " 19  TotalCharges      7043 non-null   object \n",
      " 20  Churn             7043 non-null   object \n",
      "dtypes: float64(1), int64(2), object(18)\n",
      "memory usage: 1.1+ MB\n"
     ]
    }
   ],
   "source": [
    "df.info()"
   ]
  },
  {
   "attachments": {},
   "cell_type": "markdown",
   "metadata": {},
   "source": [
    "Fixing the TotalCharges column.  There were no nulls but there were empty values preventing conversion to float."
   ]
  },
  {
   "cell_type": "code",
   "execution_count": 207,
   "metadata": {},
   "outputs": [],
   "source": [
    "# Replace empty strings with 0\n",
    "df['TotalCharges'] = df['TotalCharges'].replace(' ', 0)\n",
    "\n",
    "# Convert the column to float\n",
    "df['TotalCharges'] = df['TotalCharges'].astype(float)\n",
    "\n",
    "# Replace 0 values with the mean value\n",
    "mean_value = df['TotalCharges'].mean()\n",
    "df['TotalCharges'] = df['TotalCharges'].replace(0, mean_value)"
   ]
  },
  {
   "cell_type": "code",
   "execution_count": 208,
   "metadata": {},
   "outputs": [
    {
     "name": "stdout",
     "output_type": "stream",
     "text": [
      "<class 'pandas.core.frame.DataFrame'>\n",
      "RangeIndex: 7043 entries, 0 to 7042\n",
      "Data columns (total 21 columns):\n",
      " #   Column            Non-Null Count  Dtype  \n",
      "---  ------            --------------  -----  \n",
      " 0   customerID        7043 non-null   object \n",
      " 1   gender            7043 non-null   object \n",
      " 2   SeniorCitizen     7043 non-null   int64  \n",
      " 3   Partner           7043 non-null   object \n",
      " 4   Dependents        7043 non-null   object \n",
      " 5   tenure            7043 non-null   int64  \n",
      " 6   PhoneService      7043 non-null   object \n",
      " 7   MultipleLines     7043 non-null   object \n",
      " 8   InternetService   7043 non-null   object \n",
      " 9   OnlineSecurity    7043 non-null   object \n",
      " 10  OnlineBackup      7043 non-null   object \n",
      " 11  DeviceProtection  7043 non-null   object \n",
      " 12  TechSupport       7043 non-null   object \n",
      " 13  StreamingTV       7043 non-null   object \n",
      " 14  StreamingMovies   7043 non-null   object \n",
      " 15  Contract          7043 non-null   object \n",
      " 16  PaperlessBilling  7043 non-null   object \n",
      " 17  PaymentMethod     7043 non-null   object \n",
      " 18  MonthlyCharges    7043 non-null   float64\n",
      " 19  TotalCharges      7043 non-null   float64\n",
      " 20  Churn             7043 non-null   object \n",
      "dtypes: float64(2), int64(2), object(17)\n",
      "memory usage: 1.1+ MB\n"
     ]
    }
   ],
   "source": [
    "df.info()"
   ]
  },
  {
   "cell_type": "code",
   "execution_count": 209,
   "metadata": {},
   "outputs": [],
   "source": [
    "df.drop(columns='customerID',inplace=True)"
   ]
  },
  {
   "attachments": {},
   "cell_type": "markdown",
   "metadata": {},
   "source": [
    "# Data Exploration"
   ]
  },
  {
   "cell_type": "code",
   "execution_count": 210,
   "metadata": {},
   "outputs": [],
   "source": [
    "def plot_churn(df, feature, target='Churn'):\n",
    "    plt.figure(figsize=(10,6))\n",
    "    sns.countplot(data=df, x=feature, hue=target)\n",
    "    plt.title(f'Churn by {feature}', fontsize=15)\n",
    "    plt.ylabel('Count', fontsize=12)\n",
    "    plt.xlabel(feature, fontsize=12)\n",
    "    plt.xticks(rotation=45)\n",
    "    plt.show()"
   ]
  },
  {
   "attachments": {},
   "cell_type": "markdown",
   "metadata": {},
   "source": [
    "Gender does not seem play a role in churn"
   ]
  },
  {
   "cell_type": "code",
   "execution_count": 211,
   "metadata": {},
   "outputs": [
    {
     "data": {
      "image/png": "[encoded data removed]",
      "text/plain": [
       "<Figure size 1000x600 with 1 Axes>"
      ]
     },
     "metadata": {},
     "output_type": "display_data"
    }
   ],
   "source": [
    "# call the function\n",
    "plot_churn(df, 'gender')"
   ]
  },
  {
   "attachments": {},
   "cell_type": "markdown",
   "metadata": {},
   "source": [
    "Customers without a partner are more likely to churn"
   ]
  },
  {
   "cell_type": "code",
   "execution_count": 212,
   "metadata": {},
   "outputs": [
    {
     "data": {
      "image/png": "[encoded data removed]",
      "text/plain": [
       "<Figure size 1000x600 with 1 Axes>"
      ]
     },
     "metadata": {},
     "output_type": "display_data"
    }
   ],
   "source": [
    "plot_churn(df,'Partner')"
   ]
  },
  {
   "attachments": {},
   "cell_type": "markdown",
   "metadata": {},
   "source": [
    "Customers with no dependents are more likely to churn"
   ]
  },
  {
   "cell_type": "code",
   "execution_count": 213,
   "metadata": {},
   "outputs": [
    {
     "data": {
      "image/png": "[encoded data removed]",
      "text/plain": [
       "<Figure size 1000x600 with 1 Axes>"
      ]
     },
     "metadata": {},
     "output_type": "display_data"
    }
   ],
   "source": [
    "plot_churn(df,'Dependents')"
   ]
  },
  {
   "attachments": {},
   "cell_type": "markdown",
   "metadata": {},
   "source": [
    "Month-to-month contracts are MUCH more likely to churn"
   ]
  },
  {
   "cell_type": "code",
   "execution_count": 214,
   "metadata": {},
   "outputs": [
    {
     "data": {
      "image/png": "[encoded data removed]",
      "text/plain": [
       "<Figure size 1000x600 with 1 Axes>"
      ]
     },
     "metadata": {},
     "output_type": "display_data"
    }
   ],
   "source": [
    "plot_churn(df,'Contract')"
   ]
  },
  {
   "attachments": {},
   "cell_type": "markdown",
   "metadata": {},
   "source": [
    "Customers without device protection are more likely to churn"
   ]
  },
  {
   "cell_type": "code",
   "execution_count": 215,
   "metadata": {},
   "outputs": [
    {
     "data": {
      "image/png": "[encoded data removed]",
      "text/plain": [
       "<Figure size 1000x600 with 1 Axes>"
      ]
     },
     "metadata": {},
     "output_type": "display_data"
    }
   ],
   "source": [
    "plot_churn(df,'DeviceProtection')"
   ]
  },
  {
   "attachments": {},
   "cell_type": "markdown",
   "metadata": {},
   "source": [
    "Customers with paperless billing are more likely to churn, but also double the amount of representation"
   ]
  },
  {
   "cell_type": "code",
   "execution_count": 216,
   "metadata": {},
   "outputs": [
    {
     "data": {
      "image/png": "[encoded data removed]",
      "text/plain": [
       "<Figure size 1000x600 with 1 Axes>"
      ]
     },
     "metadata": {},
     "output_type": "display_data"
    }
   ],
   "source": [
    "plot_churn(df,'PaperlessBilling')"
   ]
  },
  {
   "cell_type": "code",
   "execution_count": 217,
   "metadata": {},
   "outputs": [
    {
     "data": {
      "text/plain": [
       "Yes    4171\n",
       "No     2872\n",
       "Name: PaperlessBilling, dtype: int64"
      ]
     },
     "execution_count": 217,
     "metadata": {},
     "output_type": "execute_result"
    }
   ],
   "source": [
    "df['PaperlessBilling'].value_counts()"
   ]
  },
  {
   "cell_type": "code",
   "execution_count": 218,
   "metadata": {},
   "outputs": [
    {
     "data": {
      "image/png": "[encoded data removed]",
      "text/plain": [
       "<Figure size 1000x600 with 1 Axes>"
      ]
     },
     "metadata": {},
     "output_type": "display_data"
    }
   ],
   "source": [
    "plot_churn(df,'InternetService')"
   ]
  },
  {
   "cell_type": "code",
   "execution_count": 219,
   "metadata": {},
   "outputs": [
    {
     "data": {
      "text/plain": [
       "Fiber optic    3096\n",
       "DSL            2421\n",
       "No             1526\n",
       "Name: InternetService, dtype: int64"
      ]
     },
     "execution_count": 219,
     "metadata": {},
     "output_type": "execute_result"
    }
   ],
   "source": [
    "df['InternetService'].value_counts()"
   ]
  },
  {
   "attachments": {},
   "cell_type": "markdown",
   "metadata": {},
   "source": [
    "The data is imbalanced, so we'll attempt to balance it."
   ]
  },
  {
   "cell_type": "code",
   "execution_count": 220,
   "metadata": {},
   "outputs": [
    {
     "data": {
      "text/plain": [
       "No     5174\n",
       "Yes    1869\n",
       "Name: Churn, dtype: int64"
      ]
     },
     "execution_count": 220,
     "metadata": {},
     "output_type": "execute_result"
    }
   ],
   "source": [
    "df['Churn'].value_counts()"
   ]
  },
  {
   "cell_type": "code",
   "execution_count": 221,
   "metadata": {},
   "outputs": [],
   "source": [
    "from imblearn.over_sampling import RandomOverSampler\n",
    "oversampler = RandomOverSampler(random_state=42)"
   ]
  },
  {
   "cell_type": "code",
   "execution_count": 222,
   "metadata": {},
   "outputs": [],
   "source": [
    "X = df.drop('Churn', axis=1)  \n",
    "y = df['Churn']\n",
    "# X_resampled, y_resampled = oversampler.fit_resample(X, y)"
   ]
  },
  {
   "cell_type": "code",
   "execution_count": 223,
   "metadata": {},
   "outputs": [],
   "source": [
    "# y_resampled.value_counts()"
   ]
  },
  {
   "attachments": {},
   "cell_type": "markdown",
   "metadata": {},
   "source": [
    "Split the data into training and test sets"
   ]
  },
  {
   "cell_type": "code",
   "execution_count": 224,
   "metadata": {},
   "outputs": [],
   "source": [
    "from sklearn.model_selection import train_test_split"
   ]
  },
  {
   "cell_type": "code",
   "execution_count": 225,
   "metadata": {},
   "outputs": [],
   "source": [
    "X_train, X_test, y_train, y_test = train_test_split(X, y, test_size=0.2, random_state=42)"
   ]
  },
  {
   "cell_type": "code",
   "execution_count": 226,
   "metadata": {},
   "outputs": [],
   "source": [
    "X_train_resampled, y_train_resampled = oversampler.fit_resample(X_train,y_train)"
   ]
  },
  {
   "cell_type": "code",
   "execution_count": 227,
   "metadata": {},
   "outputs": [
    {
     "data": {
      "text/plain": [
       "No     4138\n",
       "Yes    1496\n",
       "Name: Churn, dtype: int64"
      ]
     },
     "execution_count": 227,
     "metadata": {},
     "output_type": "execute_result"
    }
   ],
   "source": [
    "y_train.value_counts()"
   ]
  },
  {
   "attachments": {},
   "cell_type": "markdown",
   "metadata": {},
   "source": [
    "## Scale the data"
   ]
  },
  {
   "cell_type": "code",
   "execution_count": 228,
   "metadata": {},
   "outputs": [],
   "source": [
    "from sklearn.preprocessing import StandardScaler\n",
    "scaler = StandardScaler()"
   ]
  },
  {
   "cell_type": "code",
   "execution_count": 229,
   "metadata": {},
   "outputs": [],
   "source": [
    "import joblib"
   ]
  },
  {
   "cell_type": "code",
   "execution_count": 230,
   "metadata": {},
   "outputs": [
    {
     "data": {
      "text/plain": [
       "['scaler.joblib']"
      ]
     },
     "execution_count": 230,
     "metadata": {},
     "output_type": "execute_result"
    }
   ],
   "source": [
    "scaler.fit(X_train_resampled[['tenure','MonthlyCharges','TotalCharges']])\n",
    "joblib.dump(scaler, 'scaler.joblib')"
   ]
  },
  {
   "cell_type": "code",
   "execution_count": 231,
   "metadata": {},
   "outputs": [],
   "source": [
    "X_train_resampled[['tenure','MonthlyCharges','TotalCharges']] = scaler.transform(X_train_resampled[['tenure','MonthlyCharges','TotalCharges']])\n",
    "X_test[['tenure','MonthlyCharges','TotalCharges']] = scaler.transform(X_test[['tenure','MonthlyCharges','TotalCharges']])"
   ]
  },
  {
   "attachments": {},
   "cell_type": "markdown",
   "metadata": {},
   "source": [
    "## Encode Categorical Data"
   ]
  },
  {
   "cell_type": "code",
   "execution_count": 232,
   "metadata": {},
   "outputs": [],
   "source": [
    "from sklearn.preprocessing import OneHotEncoder"
   ]
  },
  {
   "cell_type": "code",
   "execution_count": 233,
   "metadata": {},
   "outputs": [
    {
     "data": {
      "text/plain": [
       "Index(['gender', 'SeniorCitizen', 'Partner', 'Dependents', 'tenure',\n",
       "       'PhoneService', 'MultipleLines', 'InternetService', 'OnlineSecurity',\n",
       "       'OnlineBackup', 'DeviceProtection', 'TechSupport', 'StreamingTV',\n",
       "       'StreamingMovies', 'Contract', 'PaperlessBilling', 'PaymentMethod',\n",
       "       'MonthlyCharges', 'TotalCharges', 'Churn'],\n",
       "      dtype='object')"
      ]
     },
     "execution_count": 233,
     "metadata": {},
     "output_type": "execute_result"
    }
   ],
   "source": [
    "df.columns"
   ]
  },
  {
   "cell_type": "code",
   "execution_count": 234,
   "metadata": {},
   "outputs": [],
   "source": [
    "categories = ['gender', \n",
    "              'SeniorCitizen', \n",
    "              'Partner', \n",
    "              'Dependents',\n",
    "              'PhoneService', \n",
    "              'MultipleLines', \n",
    "              'InternetService', \n",
    "              'OnlineSecurity',\n",
    "              'OnlineBackup', \n",
    "              'DeviceProtection', \n",
    "              'TechSupport', \n",
    "              'StreamingTV',\n",
    "              'StreamingMovies', \n",
    "              'Contract', \n",
    "              'PaperlessBilling', \n",
    "              'PaymentMethod']"
   ]
  },
  {
   "cell_type": "code",
   "execution_count": 235,
   "metadata": {},
   "outputs": [],
   "source": [
    "encoder = OneHotEncoder()"
   ]
  },
  {
   "cell_type": "code",
   "execution_count": 236,
   "metadata": {},
   "outputs": [],
   "source": [
    "categorical_train_data = X_train_resampled[categories]\n",
    "encoder.fit(categorical_train_data)\n",
    "encoded_train_data = encoder.transform(categorical_train_data).toarray()"
   ]
  },
  {
   "cell_type": "code",
   "execution_count": 237,
   "metadata": {},
   "outputs": [],
   "source": [
    "# Transform the test data\n",
    "categorical_test_data = X_test[categories]\n",
    "encoded_test_data = encoder.transform(categorical_test_data).toarray()"
   ]
  },
  {
   "cell_type": "code",
   "execution_count": 238,
   "metadata": {},
   "outputs": [],
   "source": [
    "encoded_train_df = pd.DataFrame(encoded_train_data, columns=encoder.get_feature_names_out(categories), index=X_train_resampled.index)\n",
    "encoded_test_df = pd.DataFrame(encoded_test_data, columns=encoder.get_feature_names_out(categories), index=X_test.index)"
   ]
  },
  {
   "cell_type": "code",
   "execution_count": 239,
   "metadata": {},
   "outputs": [],
   "source": [
    "# Concatenate the original dataframes with the new ones\n",
    "X_train_encoded = pd.concat([X_train_resampled.drop(categories, axis=1), encoded_train_df], axis=1)\n",
    "X_test_encoded = pd.concat([X_test.drop(categories, axis=1), encoded_test_df], axis=1)"
   ]
  },
  {
   "cell_type": "code",
   "execution_count": 240,
   "metadata": {},
   "outputs": [
    {
     "data": {
      "text/plain": [
       "Index(['tenure', 'MonthlyCharges', 'TotalCharges', 'gender_Female',\n",
       "       'gender_Male', 'SeniorCitizen_0', 'SeniorCitizen_1', 'Partner_No',\n",
       "       'Partner_Yes', 'Dependents_No', 'Dependents_Yes', 'PhoneService_No',\n",
       "       'PhoneService_Yes', 'MultipleLines_No',\n",
       "       'MultipleLines_No phone service', 'MultipleLines_Yes',\n",
       "       'InternetService_DSL', 'InternetService_Fiber optic',\n",
       "       'InternetService_No', 'OnlineSecurity_No',\n",
       "       'OnlineSecurity_No internet service', 'OnlineSecurity_Yes',\n",
       "       'OnlineBackup_No', 'OnlineBackup_No internet service',\n",
       "       'OnlineBackup_Yes', 'DeviceProtection_No',\n",
       "       'DeviceProtection_No internet service', 'DeviceProtection_Yes',\n",
       "       'TechSupport_No', 'TechSupport_No internet service', 'TechSupport_Yes',\n",
       "       'StreamingTV_No', 'StreamingTV_No internet service', 'StreamingTV_Yes',\n",
       "       'StreamingMovies_No', 'StreamingMovies_No internet service',\n",
       "       'StreamingMovies_Yes', 'Contract_Month-to-month', 'Contract_One year',\n",
       "       'Contract_Two year', 'PaperlessBilling_No', 'PaperlessBilling_Yes',\n",
       "       'PaymentMethod_Bank transfer (automatic)',\n",
       "       'PaymentMethod_Credit card (automatic)',\n",
       "       'PaymentMethod_Electronic check', 'PaymentMethod_Mailed check'],\n",
       "      dtype='object')"
      ]
     },
     "execution_count": 240,
     "metadata": {},
     "output_type": "execute_result"
    }
   ],
   "source": [
    "X_train_encoded.columns"
   ]
  },
  {
   "cell_type": "code",
   "execution_count": 241,
   "metadata": {},
   "outputs": [
    {
     "data": {
      "text/html": [
       "<div>\n",
       "<style scoped>\n",
       "    .dataframe tbody tr th:only-of-type {\n",
       "        vertical-align: middle;\n",
       "    }\n",
       "\n",
       "    .dataframe tbody tr th {\n",
       "        vertical-align: top;\n",
       "    }\n",
       "\n",
       "    .dataframe thead th {\n",
       "        text-align: right;\n",
       "    }\n",
       "</style>\n",
       "<table border=\"1\" class=\"dataframe\">\n",
       "  <thead>\n",
       "    <tr style=\"text-align: right;\">\n",
       "      <th></th>\n",
       "      <th>tenure</th>\n",
       "      <th>MonthlyCharges</th>\n",
       "      <th>TotalCharges</th>\n",
       "      <th>gender_Female</th>\n",
       "      <th>gender_Male</th>\n",
       "      <th>SeniorCitizen_0</th>\n",
       "      <th>SeniorCitizen_1</th>\n",
       "      <th>Partner_No</th>\n",
       "      <th>Partner_Yes</th>\n",
       "      <th>Dependents_No</th>\n",
       "      <th>...</th>\n",
       "      <th>StreamingMovies_Yes</th>\n",
       "      <th>Contract_Month-to-month</th>\n",
       "      <th>Contract_One year</th>\n",
       "      <th>Contract_Two year</th>\n",
       "      <th>PaperlessBilling_No</th>\n",
       "      <th>PaperlessBilling_Yes</th>\n",
       "      <th>PaymentMethod_Bank transfer (automatic)</th>\n",
       "      <th>PaymentMethod_Credit card (automatic)</th>\n",
       "      <th>PaymentMethod_Electronic check</th>\n",
       "      <th>PaymentMethod_Mailed check</th>\n",
       "    </tr>\n",
       "  </thead>\n",
       "  <tbody>\n",
       "    <tr>\n",
       "      <th>0</th>\n",
       "      <td>-0.291252</td>\n",
       "      <td>-0.106289</td>\n",
       "      <td>-0.332271</td>\n",
       "      <td>1.0</td>\n",
       "      <td>0.0</td>\n",
       "      <td>1.0</td>\n",
       "      <td>0.0</td>\n",
       "      <td>1.0</td>\n",
       "      <td>0.0</td>\n",
       "      <td>0.0</td>\n",
       "      <td>...</td>\n",
       "      <td>1.0</td>\n",
       "      <td>0.0</td>\n",
       "      <td>1.0</td>\n",
       "      <td>0.0</td>\n",
       "      <td>1.0</td>\n",
       "      <td>0.0</td>\n",
       "      <td>0.0</td>\n",
       "      <td>0.0</td>\n",
       "      <td>0.0</td>\n",
       "      <td>1.0</td>\n",
       "    </tr>\n",
       "    <tr>\n",
       "      <th>1</th>\n",
       "      <td>1.090018</td>\n",
       "      <td>1.014533</td>\n",
       "      <td>1.404912</td>\n",
       "      <td>1.0</td>\n",
       "      <td>0.0</td>\n",
       "      <td>1.0</td>\n",
       "      <td>0.0</td>\n",
       "      <td>1.0</td>\n",
       "      <td>0.0</td>\n",
       "      <td>1.0</td>\n",
       "      <td>...</td>\n",
       "      <td>1.0</td>\n",
       "      <td>0.0</td>\n",
       "      <td>0.0</td>\n",
       "      <td>1.0</td>\n",
       "      <td>0.0</td>\n",
       "      <td>1.0</td>\n",
       "      <td>1.0</td>\n",
       "      <td>0.0</td>\n",
       "      <td>0.0</td>\n",
       "      <td>0.0</td>\n",
       "    </tr>\n",
       "    <tr>\n",
       "      <th>2</th>\n",
       "      <td>-1.128385</td>\n",
       "      <td>-1.540663</td>\n",
       "      <td>-0.933837</td>\n",
       "      <td>0.0</td>\n",
       "      <td>1.0</td>\n",
       "      <td>1.0</td>\n",
       "      <td>0.0</td>\n",
       "      <td>0.0</td>\n",
       "      <td>1.0</td>\n",
       "      <td>1.0</td>\n",
       "      <td>...</td>\n",
       "      <td>0.0</td>\n",
       "      <td>1.0</td>\n",
       "      <td>0.0</td>\n",
       "      <td>0.0</td>\n",
       "      <td>0.0</td>\n",
       "      <td>1.0</td>\n",
       "      <td>0.0</td>\n",
       "      <td>0.0</td>\n",
       "      <td>1.0</td>\n",
       "      <td>0.0</td>\n",
       "    </tr>\n",
       "    <tr>\n",
       "      <th>3</th>\n",
       "      <td>-1.002815</td>\n",
       "      <td>0.079071</td>\n",
       "      <td>-0.835588</td>\n",
       "      <td>0.0</td>\n",
       "      <td>1.0</td>\n",
       "      <td>1.0</td>\n",
       "      <td>0.0</td>\n",
       "      <td>1.0</td>\n",
       "      <td>0.0</td>\n",
       "      <td>1.0</td>\n",
       "      <td>...</td>\n",
       "      <td>0.0</td>\n",
       "      <td>1.0</td>\n",
       "      <td>0.0</td>\n",
       "      <td>0.0</td>\n",
       "      <td>0.0</td>\n",
       "      <td>1.0</td>\n",
       "      <td>0.0</td>\n",
       "      <td>0.0</td>\n",
       "      <td>1.0</td>\n",
       "      <td>0.0</td>\n",
       "    </tr>\n",
       "    <tr>\n",
       "      <th>4</th>\n",
       "      <td>-1.170242</td>\n",
       "      <td>-0.208496</td>\n",
       "      <td>0.099630</td>\n",
       "      <td>0.0</td>\n",
       "      <td>1.0</td>\n",
       "      <td>1.0</td>\n",
       "      <td>0.0</td>\n",
       "      <td>1.0</td>\n",
       "      <td>0.0</td>\n",
       "      <td>0.0</td>\n",
       "      <td>...</td>\n",
       "      <td>0.0</td>\n",
       "      <td>0.0</td>\n",
       "      <td>0.0</td>\n",
       "      <td>1.0</td>\n",
       "      <td>0.0</td>\n",
       "      <td>1.0</td>\n",
       "      <td>1.0</td>\n",
       "      <td>0.0</td>\n",
       "      <td>0.0</td>\n",
       "      <td>0.0</td>\n",
       "    </tr>\n",
       "  </tbody>\n",
       "</table>\n",
       "<p>5 rows × 46 columns</p>\n",
       "</div>"
      ],
      "text/plain": [
       "     tenure  MonthlyCharges  TotalCharges  gender_Female  gender_Male  \\\n",
       "0 -0.291252       -0.106289     -0.332271            1.0          0.0   \n",
       "1  1.090018        1.014533      1.404912            1.0          0.0   \n",
       "2 -1.128385       -1.540663     -0.933837            0.0          1.0   \n",
       "3 -1.002815        0.079071     -0.835588            0.0          1.0   \n",
       "4 -1.170242       -0.208496      0.099630            0.0          1.0   \n",
       "\n",
       "   SeniorCitizen_0  SeniorCitizen_1  Partner_No  Partner_Yes  Dependents_No  \\\n",
       "0              1.0              0.0         1.0          0.0            0.0   \n",
       "1              1.0              0.0         1.0          0.0            1.0   \n",
       "2              1.0              0.0         0.0          1.0            1.0   \n",
       "3              1.0              0.0         1.0          0.0            1.0   \n",
       "4              1.0              0.0         1.0          0.0            0.0   \n",
       "\n",
       "   ...  StreamingMovies_Yes  Contract_Month-to-month  Contract_One year  \\\n",
       "0  ...                  1.0                      0.0                1.0   \n",
       "1  ...                  1.0                      0.0                0.0   \n",
       "2  ...                  0.0                      1.0                0.0   \n",
       "3  ...                  0.0                      1.0                0.0   \n",
       "4  ...                  0.0                      0.0                0.0   \n",
       "\n",
       "   Contract_Two year  PaperlessBilling_No  PaperlessBilling_Yes  \\\n",
       "0                0.0                  1.0                   0.0   \n",
       "1                1.0                  0.0                   1.0   \n",
       "2                0.0                  0.0                   1.0   \n",
       "3                0.0                  0.0                   1.0   \n",
       "4                1.0                  0.0                   1.0   \n",
       "\n",
       "   PaymentMethod_Bank transfer (automatic)  \\\n",
       "0                                      0.0   \n",
       "1                                      1.0   \n",
       "2                                      0.0   \n",
       "3                                      0.0   \n",
       "4                                      1.0   \n",
       "\n",
       "   PaymentMethod_Credit card (automatic)  PaymentMethod_Electronic check  \\\n",
       "0                                    0.0                             0.0   \n",
       "1                                    0.0                             0.0   \n",
       "2                                    0.0                             1.0   \n",
       "3                                    0.0                             1.0   \n",
       "4                                    0.0                             0.0   \n",
       "\n",
       "   PaymentMethod_Mailed check  \n",
       "0                         1.0  \n",
       "1                         0.0  \n",
       "2                         0.0  \n",
       "3                         0.0  \n",
       "4                         0.0  \n",
       "\n",
       "[5 rows x 46 columns]"
      ]
     },
     "execution_count": 241,
     "metadata": {},
     "output_type": "execute_result"
    }
   ],
   "source": [
    "X_train_encoded.head()"
   ]
  },
  {
   "attachments": {},
   "cell_type": "markdown",
   "metadata": {},
   "source": [
    "## Base Model Testing"
   ]
  },
  {
   "cell_type": "code",
   "execution_count": 242,
   "metadata": {},
   "outputs": [],
   "source": [
    "from sklearn.linear_model import LogisticRegression\n",
    "from sklearn.svm import SVC\n",
    "from sklearn.ensemble import RandomForestClassifier\n",
    "from sklearn.metrics import accuracy_score"
   ]
  },
  {
   "cell_type": "code",
   "execution_count": 243,
   "metadata": {},
   "outputs": [],
   "source": [
    "models = [\n",
    "    ('Logistic Regression', LogisticRegression(max_iter=1000)),\n",
    "    ('Support Vector Machine', SVC()),\n",
    "    ('Random Forest', RandomForestClassifier())\n",
    "]"
   ]
  },
  {
   "cell_type": "code",
   "execution_count": 244,
   "metadata": {},
   "outputs": [],
   "source": [
    "def test_models(models, X_train, y_train, X_test, y_test):\n",
    "    for name, model in models:\n",
    "        model.fit(X_train, y_train)\n",
    "        predictions = model.predict(X_test)\n",
    "        accuracy = accuracy_score(y_test, predictions)\n",
    "        print(f'{name} Accuracy: {accuracy * 100:.2f}%')"
   ]
  },
  {
   "cell_type": "code",
   "execution_count": 245,
   "metadata": {},
   "outputs": [
    {
     "name": "stdout",
     "output_type": "stream",
     "text": [
      "Logistic Regression Accuracy: 74.66%\n",
      "Support Vector Machine Accuracy: 76.01%\n",
      "Random Forest Accuracy: 79.35%\n"
     ]
    }
   ],
   "source": [
    "test_models(models, X_train_encoded, y_train_resampled, X_test_encoded, y_test)"
   ]
  },
  {
   "attachments": {},
   "cell_type": "markdown",
   "metadata": {},
   "source": [
    "## Parameter Tuning"
   ]
  },
  {
   "cell_type": "code",
   "execution_count": 246,
   "metadata": {},
   "outputs": [],
   "source": [
    "from sklearn.model_selection import GridSearchCV\n",
    "\n",
    "def best_parameters(model, params, X, y, cv=5):\n",
    "    grid = GridSearchCV(model, params, cv=cv)\n",
    "    grid.fit(X, y)\n",
    "    print(\"Best parameters for \", str(model), \" are \", grid.best_params_)\n",
    "    print(\"Best score for \", str(model), \" is \", grid.best_score_)\n",
    "    return grid.best_params_"
   ]
  },
  {
   "attachments": {},
   "cell_type": "markdown",
   "metadata": {},
   "source": [
    "Logistic Regression tuning\n",
    "- The tuned model performed worse than the base model"
   ]
  },
  {
   "cell_type": "code",
   "execution_count": 247,
   "metadata": {},
   "outputs": [
    {
     "name": "stdout",
     "output_type": "stream",
     "text": [
      "Best parameters for  LogisticRegression(max_iter=1000)  are  {'C': 0.1, 'penalty': 'l2', 'solver': 'newton-cg'}\n",
      "Best score for  LogisticRegression(max_iter=1000)  is  0.7608736517944452\n"
     ]
    },
    {
     "name": "stderr",
     "output_type": "stream",
     "text": [
      "c:\\Users\\ASROCK Z590M Phantom\\anaconda3\\lib\\site-packages\\sklearn\\model_selection\\_validation.py:372: FitFailedWarning: \n",
      "105 fits failed out of a total of 350.\n",
      "The score on these train-test partitions for these parameters will be set to nan.\n",
      "If these failures are not expected, you can try to debug them by setting error_score='raise'.\n",
      "\n",
      "Below are more details about the failures:\n",
      "--------------------------------------------------------------------------------\n",
      "35 fits failed with the following error:\n",
      "Traceback (most recent call last):\n",
      "  File \"c:\\Users\\ASROCK Z590M Phantom\\anaconda3\\lib\\site-packages\\sklearn\\model_selection\\_validation.py\", line 680, in _fit_and_score\n",
      "    estimator.fit(X_train, y_train, **fit_params)\n",
      "  File \"c:\\Users\\ASROCK Z590M Phantom\\anaconda3\\lib\\site-packages\\sklearn\\linear_model\\_logistic.py\", line 1461, in fit\n",
      "    solver = _check_solver(self.solver, self.penalty, self.dual)\n",
      "  File \"c:\\Users\\ASROCK Z590M Phantom\\anaconda3\\lib\\site-packages\\sklearn\\linear_model\\_logistic.py\", line 447, in _check_solver\n",
      "    raise ValueError(\n",
      "ValueError: Solver newton-cg supports only 'l2' or 'none' penalties, got l1 penalty.\n",
      "\n",
      "--------------------------------------------------------------------------------\n",
      "35 fits failed with the following error:\n",
      "Traceback (most recent call last):\n",
      "  File \"c:\\Users\\ASROCK Z590M Phantom\\anaconda3\\lib\\site-packages\\sklearn\\model_selection\\_validation.py\", line 680, in _fit_and_score\n",
      "    estimator.fit(X_train, y_train, **fit_params)\n",
      "  File \"c:\\Users\\ASROCK Z590M Phantom\\anaconda3\\lib\\site-packages\\sklearn\\linear_model\\_logistic.py\", line 1461, in fit\n",
      "    solver = _check_solver(self.solver, self.penalty, self.dual)\n",
      "  File \"c:\\Users\\ASROCK Z590M Phantom\\anaconda3\\lib\\site-packages\\sklearn\\linear_model\\_logistic.py\", line 447, in _check_solver\n",
      "    raise ValueError(\n",
      "ValueError: Solver lbfgs supports only 'l2' or 'none' penalties, got l1 penalty.\n",
      "\n",
      "--------------------------------------------------------------------------------\n",
      "35 fits failed with the following error:\n",
      "Traceback (most recent call last):\n",
      "  File \"c:\\Users\\ASROCK Z590M Phantom\\anaconda3\\lib\\site-packages\\sklearn\\model_selection\\_validation.py\", line 680, in _fit_and_score\n",
      "    estimator.fit(X_train, y_train, **fit_params)\n",
      "  File \"c:\\Users\\ASROCK Z590M Phantom\\anaconda3\\lib\\site-packages\\sklearn\\linear_model\\_logistic.py\", line 1461, in fit\n",
      "    solver = _check_solver(self.solver, self.penalty, self.dual)\n",
      "  File \"c:\\Users\\ASROCK Z590M Phantom\\anaconda3\\lib\\site-packages\\sklearn\\linear_model\\_logistic.py\", line 447, in _check_solver\n",
      "    raise ValueError(\n",
      "ValueError: Solver sag supports only 'l2' or 'none' penalties, got l1 penalty.\n",
      "\n",
      "  warnings.warn(some_fits_failed_message, FitFailedWarning)\n",
      "c:\\Users\\ASROCK Z590M Phantom\\anaconda3\\lib\\site-packages\\sklearn\\model_selection\\_search.py:969: UserWarning: One or more of the test scores are non-finite: [       nan        nan 0.66348505        nan 0.66348505 0.75519484\n",
      " 0.75519484 0.75495337 0.75519484 0.75519484        nan        nan\n",
      " 0.74975845        nan 0.75374637 0.75942343 0.75942343 0.75942343\n",
      " 0.75942343 0.75942343        nan        nan 0.75882015        nan\n",
      " 0.75918217 0.76087365 0.76087365 0.76087365 0.76087365 0.76087365\n",
      "        nan        nan 0.75954471        nan 0.75966556 0.75966556\n",
      " 0.7597864  0.75942387 0.75966556 0.75966556        nan        nan\n",
      " 0.76026957        nan 0.75954457 0.75954457 0.75966541 0.75966541\n",
      " 0.75966541 0.75966541        nan        nan 0.75966541        nan\n",
      " 0.76026935 0.76026935 0.7601485  0.76026935 0.76026935 0.76026935\n",
      "        nan        nan 0.76014865        nan 0.7601485  0.7601485\n",
      " 0.7601485  0.7601485  0.7601485  0.7601485 ]\n",
      "  warnings.warn(\n"
     ]
    }
   ],
   "source": [
    "# Define the model and parameters\n",
    "model = LogisticRegression(max_iter=1000)\n",
    "params = {'C': [0.001, 0.01, 0.1, 1, 10, 100, 1000], \n",
    "          'penalty': ['l1', 'l2'],\n",
    "          'solver': ['newton-cg', 'lbfgs', 'liblinear', 'sag', 'saga']}\n",
    "\n",
    "# Get best parameters\n",
    "best_LR_params = best_parameters(model, params, X_train_encoded, y_train_resampled)"
   ]
  },
  {
   "attachments": {},
   "cell_type": "markdown",
   "metadata": {},
   "source": [
    "SVC Tuning\n",
    "- I tried multiple different parameters and let it run for an hour each time but it never finished.\n",
    "- After some research, I found out this model is known for having a long training time"
   ]
  },
  {
   "cell_type": "code",
   "execution_count": 248,
   "metadata": {},
   "outputs": [],
   "source": [
    "# from sklearn.model_selection import RandomizedSearchCV\n",
    "# from scipy.stats import uniform\n",
    "\n",
    "# model = SVC()\n",
    "# # Specifying the parameters. The difference here is that we provide a distribution for continuous parameters rather than a list of specific values.\n",
    "# params = {'C': uniform(loc=0, scale=1000), \n",
    "#           'gamma': uniform(loc=0, scale=1),\n",
    "#           'kernel': ['linear', 'rbf']}\n",
    "\n",
    "# # Instantiate the RandomizedSearchCV object\n",
    "# rscv = RandomizedSearchCV(model, params, n_iter=100, cv=5, random_state=42)\n",
    "\n",
    "# # This will start the search over the specified parameter distributions\n",
    "# rscv.fit(X_train_encoded, y_train)\n",
    "\n",
    "# # Get the best parameters and the best score\n",
    "# best_svc_params = rscv.best_params_\n",
    "# best_svc_score = rscv.best_score_\n",
    "\n",
    "# print(\"Best parameters for SVC are \", best_svc_params)\n",
    "# print(\"Best score for SVC is \", best_svc_score)\n"
   ]
  },
  {
   "attachments": {},
   "cell_type": "markdown",
   "metadata": {},
   "source": [
    "Random Forest Tuning"
   ]
  },
  {
   "cell_type": "code",
   "execution_count": 249,
   "metadata": {},
   "outputs": [
    {
     "name": "stdout",
     "output_type": "stream",
     "text": [
      "Best parameters for  RandomForestClassifier()  are  {'bootstrap': True, 'max_depth': 30, 'max_features': 0.5, 'min_samples_leaf': 5, 'min_samples_split': 10, 'n_estimators': 100}\n",
      "Best score for  RandomForestClassifier()  is  0.8476351124538436\n"
     ]
    }
   ],
   "source": [
    "model = RandomForestClassifier()\n",
    "params = {\n",
    "    'n_estimators': [100],  # 100 is a good general starting point\n",
    "    'max_features': ['auto', 'sqrt', 0.5],  # Lower values can help to decrease complexity\n",
    "    'max_depth': [10, 20, 30],  # Lower values can also decrease complexity\n",
    "    'min_samples_split': [5, 10, 20],  # Higher values lead to more regularization\n",
    "    'min_samples_leaf': [5, 10, 20],  # Higher values also lead to more regularization\n",
    "    'bootstrap': [True]  # True can lead to a more diverse set of trees\n",
    "}\n",
    "\n",
    "# Get best parameters\n",
    "best_forest_params = best_parameters(model, params, X_train_encoded, y_train_resampled)"
   ]
  },
  {
   "attachments": {},
   "cell_type": "markdown",
   "metadata": {},
   "source": [
    "## Testing with updated parameters"
   ]
  },
  {
   "cell_type": "code",
   "execution_count": 250,
   "metadata": {},
   "outputs": [],
   "source": [
    "from sklearn.metrics import classification_report, confusion_matrix, roc_auc_score"
   ]
  },
  {
   "attachments": {},
   "cell_type": "markdown",
   "metadata": {},
   "source": [
    "Random Forest Test"
   ]
  },
  {
   "cell_type": "code",
   "execution_count": 251,
   "metadata": {},
   "outputs": [
    {
     "name": "stdout",
     "output_type": "stream",
     "text": [
      "Training Classification Report:\n",
      "              precision    recall  f1-score   support\n",
      "\n",
      "          No       1.00      1.00      1.00      4138\n",
      "         Yes       1.00      1.00      1.00      4138\n",
      "\n",
      "    accuracy                           1.00      8276\n",
      "   macro avg       1.00      1.00      1.00      8276\n",
      "weighted avg       1.00      1.00      1.00      8276\n",
      "\n",
      "Test Classification Report:\n",
      "              precision    recall  f1-score   support\n",
      "\n",
      "          No       0.82      0.91      0.86      1036\n",
      "         Yes       0.63      0.43      0.51       373\n",
      "\n",
      "    accuracy                           0.78      1409\n",
      "   macro avg       0.72      0.67      0.69      1409\n",
      "weighted avg       0.77      0.78      0.77      1409\n",
      "\n",
      "Training Confusion Matrix:\n",
      "[[4133    5]\n",
      " [   3 4135]]\n",
      "Test Confusion Matrix:\n",
      "[[943  93]\n",
      " [213 160]]\n",
      "Training AUC-ROC Score:\n",
      "0.999996758753876\n",
      "Test AUC-ROC Score:\n",
      "0.7770270270270271\n"
     ]
    }
   ],
   "source": [
    "model = RandomForestClassifier(bootstrap=False, max_depth=30, max_features='auto', \n",
    "                               min_samples_leaf=1, min_samples_split=2, n_estimators=10)\n",
    "model.fit(X_train_encoded, y_train_resampled)\n",
    "\n",
    "# Make predictions\n",
    "train_preds = model.predict(X_train_encoded)\n",
    "test_preds = model.predict(X_test_encoded)\n",
    "\n",
    "# Print classification report for training data\n",
    "print(\"Training Classification Report:\")\n",
    "print(classification_report(y_train_resampled, train_preds))\n",
    "\n",
    "# Print classification report for test data\n",
    "print(\"Test Classification Report:\")\n",
    "print(classification_report(y_test, test_preds))\n",
    "\n",
    "# Print confusion matrices\n",
    "print(\"Training Confusion Matrix:\")\n",
    "print(confusion_matrix(y_train_resampled, train_preds))\n",
    "print(\"Test Confusion Matrix:\")\n",
    "print(confusion_matrix(y_test, test_preds))\n",
    "\n",
    "# Print AUC-ROC scores\n",
    "print(\"Training AUC-ROC Score:\")\n",
    "print(roc_auc_score(y_train_resampled, model.predict_proba(X_train_encoded)[:, 1]))\n",
    "print(\"Test AUC-ROC Score:\")\n",
    "print(roc_auc_score(y_test, model.predict_proba(X_test_encoded)[:, 1]))"
   ]
  },
  {
   "attachments": {},
   "cell_type": "markdown",
   "metadata": {},
   "source": [
    "Logistic Regression Test"
   ]
  },
  {
   "cell_type": "code",
   "execution_count": 260,
   "metadata": {},
   "outputs": [
    {
     "name": "stdout",
     "output_type": "stream",
     "text": [
      "Training Classification Report:\n",
      "              precision    recall  f1-score   support\n",
      "\n",
      "          No       0.78      0.72      0.75      4138\n",
      "         Yes       0.74      0.80      0.77      4138\n",
      "\n",
      "    accuracy                           0.76      8276\n",
      "   macro avg       0.76      0.76      0.76      8276\n",
      "weighted avg       0.76      0.76      0.76      8276\n",
      "\n",
      "Test Classification Report:\n",
      "              precision    recall  f1-score   support\n",
      "\n",
      "          No       0.92      0.72      0.81      1036\n",
      "         Yes       0.51      0.82      0.63       373\n",
      "\n",
      "    accuracy                           0.75      1409\n",
      "   macro avg       0.72      0.77      0.72      1409\n",
      "weighted avg       0.81      0.75      0.76      1409\n",
      "\n",
      "Training Confusion Matrix:\n",
      "[[3000 1138]\n",
      " [ 828 3310]]\n",
      "Test Confusion Matrix:\n",
      "[[746 290]\n",
      " [ 67 306]]\n",
      "Training AUC-ROC Score:\n",
      "0.8450326647528327\n",
      "Test AUC-ROC Score:\n",
      "0.8615123645284504\n"
     ]
    }
   ],
   "source": [
    "model = LogisticRegression(max_iter=1000,C= 1, penalty= 'l2', solver= 'sag')\n",
    "model.fit(X_train_encoded, y_train_resampled)\n",
    "\n",
    "# Make predictions\n",
    "train_preds = model.predict(X_train_encoded)\n",
    "test_preds = model.predict(X_test_encoded)\n",
    "\n",
    "# Print classification report for training data\n",
    "print(\"Training Classification Report:\")\n",
    "print(classification_report(y_train_resampled, train_preds))\n",
    "\n",
    "# Print classification report for test data\n",
    "print(\"Test Classification Report:\")\n",
    "print(classification_report(y_test, test_preds))\n",
    "\n",
    "# Print confusion matrices\n",
    "print(\"Training Confusion Matrix:\")\n",
    "print(confusion_matrix(y_train_resampled, train_preds))\n",
    "print(\"Test Confusion Matrix:\")\n",
    "print(confusion_matrix(y_test, test_preds))\n",
    "\n",
    "# Print AUC-ROC scores\n",
    "print(\"Training AUC-ROC Score:\")\n",
    "print(roc_auc_score(y_train_resampled, model.predict_proba(X_train_encoded)[:, 1]))\n",
    "print(\"Test AUC-ROC Score:\")\n",
    "print(roc_auc_score(y_test, model.predict_proba(X_test_encoded)[:, 1]))"
   ]
  },
  {
   "attachments": {},
   "cell_type": "markdown",
   "metadata": {},
   "source": [
    "# Feature Engineering\n",
    "- Tenure was not scaled for the previous models, these tests will scale tenure with the other numerical features"
   ]
  },
  {
   "cell_type": "code",
   "execution_count": 253,
   "metadata": {},
   "outputs": [],
   "source": [
    "#scaler = StandardScaler()\n",
    "import joblib"
   ]
  },
  {
   "cell_type": "code",
   "execution_count": null,
   "metadata": {},
   "outputs": [],
   "source": [
    "# # Fit on the training data\n",
    "# scaler.fit(X_train_encoded[['tenure']])\n",
    "# joblib.dump(scaler,'scaler.joblib')\n",
    "# # Transform the 'Tenure' column in both the training and test sets\n",
    "# X_train_encoded['tenure'] = scaler.transform(X_train_encoded[['tenure']])\n",
    "# X_test_encoded['tenure'] = scaler.transform(X_test_encoded[['tenure']])"
   ]
  },
  {
   "attachments": {},
   "cell_type": "markdown",
   "metadata": {},
   "source": [
    "Testing the base models with the scaled 'tenure' feature"
   ]
  },
  {
   "cell_type": "code",
   "execution_count": 259,
   "metadata": {},
   "outputs": [
    {
     "name": "stdout",
     "output_type": "stream",
     "text": [
      "Logistic Regression Accuracy: 74.66%\n",
      "Support Vector Machine Accuracy: 76.01%\n",
      "Random Forest Accuracy: 78.50%\n"
     ]
    }
   ],
   "source": [
    "test_models(models, X_train_encoded, y_train_resampled, X_test_encoded, y_test)"
   ]
  },
  {
   "attachments": {},
   "cell_type": "markdown",
   "metadata": {},
   "source": [
    "Testing with optimized models"
   ]
  },
  {
   "attachments": {},
   "cell_type": "markdown",
   "metadata": {},
   "source": [
    "Random Forest\n",
    "- As nice as a perfect model looks, these parameters might be overfitting."
   ]
  },
  {
   "cell_type": "code",
   "execution_count": 255,
   "metadata": {},
   "outputs": [
    {
     "name": "stdout",
     "output_type": "stream",
     "text": [
      "Training Classification Report:\n",
      "              precision    recall  f1-score   support\n",
      "\n",
      "          No       1.00      1.00      1.00      4138\n",
      "         Yes       1.00      1.00      1.00      4138\n",
      "\n",
      "    accuracy                           1.00      8276\n",
      "   macro avg       1.00      1.00      1.00      8276\n",
      "weighted avg       1.00      1.00      1.00      8276\n",
      "\n",
      "Test Classification Report:\n",
      "              precision    recall  f1-score   support\n",
      "\n",
      "          No       0.82      0.91      0.86      1036\n",
      "         Yes       0.63      0.45      0.52       373\n",
      "\n",
      "    accuracy                           0.78      1409\n",
      "   macro avg       0.73      0.68      0.69      1409\n",
      "weighted avg       0.77      0.78      0.77      1409\n",
      "\n",
      "Training Confusion Matrix:\n",
      "[[4133    5]\n",
      " [   3 4135]]\n",
      "Test Confusion Matrix:\n",
      "[[938  98]\n",
      " [206 167]]\n",
      "Training AUC-ROC Score:\n",
      "0.999996758753876\n",
      "Test AUC-ROC Score:\n",
      "0.7904952539671037\n"
     ]
    }
   ],
   "source": [
    "model = RandomForestClassifier(bootstrap=False, max_depth=30, max_features='auto', \n",
    "                               min_samples_leaf=1, min_samples_split=2, n_estimators=10)\n",
    "model.fit(X_train_encoded, y_train_resampled)\n",
    "\n",
    "# Make predictions\n",
    "train_preds = model.predict(X_train_encoded)\n",
    "test_preds = model.predict(X_test_encoded)\n",
    "\n",
    "# Print classification report for training data\n",
    "print(\"Training Classification Report:\")\n",
    "print(classification_report(y_train_resampled, train_preds))\n",
    "\n",
    "# Print classification report for test data\n",
    "print(\"Test Classification Report:\")\n",
    "print(classification_report(y_test, test_preds))\n",
    "\n",
    "# Print confusion matrices\n",
    "print(\"Training Confusion Matrix:\")\n",
    "print(confusion_matrix(y_train_resampled, train_preds))\n",
    "print(\"Test Confusion Matrix:\")\n",
    "print(confusion_matrix(y_test, test_preds))\n",
    "\n",
    "# Print AUC-ROC scores\n",
    "print(\"Training AUC-ROC Score:\")\n",
    "print(roc_auc_score(y_train_resampled, model.predict_proba(X_train_encoded)[:, 1]))\n",
    "print(\"Test AUC-ROC Score:\")\n",
    "print(roc_auc_score(y_test, model.predict_proba(X_test_encoded)[:, 1]))"
   ]
  },
  {
   "attachments": {},
   "cell_type": "markdown",
   "metadata": {},
   "source": [
    "Random Forest Model V2"
   ]
  },
  {
   "cell_type": "code",
   "execution_count": 256,
   "metadata": {},
   "outputs": [
    {
     "name": "stdout",
     "output_type": "stream",
     "text": [
      "Training Classification Report:\n",
      "              precision    recall  f1-score   support\n",
      "\n",
      "          No       0.96      0.91      0.93      4138\n",
      "         Yes       0.91      0.96      0.93      4138\n",
      "\n",
      "    accuracy                           0.93      8276\n",
      "   macro avg       0.93      0.93      0.93      8276\n",
      "weighted avg       0.93      0.93      0.93      8276\n",
      "\n",
      "Test Classification Report:\n",
      "              precision    recall  f1-score   support\n",
      "\n",
      "          No       0.88      0.81      0.85      1036\n",
      "         Yes       0.58      0.71      0.63       373\n",
      "\n",
      "    accuracy                           0.78      1409\n",
      "   macro avg       0.73      0.76      0.74      1409\n",
      "weighted avg       0.80      0.78      0.79      1409\n",
      "\n",
      "Training Confusion Matrix:\n",
      "[[3745  393]\n",
      " [ 165 3973]]\n",
      "Test Confusion Matrix:\n",
      "[[843 193]\n",
      " [110 263]]\n",
      "Training AUC-ROC Score:\n",
      "0.9861880282501172\n",
      "Test AUC-ROC Score:\n",
      "0.845610307741675\n"
     ]
    }
   ],
   "source": [
    "# Best model with new params = 'bootstrap': True, 'max_depth': 20, 'max_features': 0.5, 'min_samples_leaf': 5, 'min_samples_split': 10, 'n_estimators': 100\n",
    "# \n",
    "model = RandomForestClassifier(bootstrap=True, max_depth=20, max_features=0.5, \n",
    "                               min_samples_leaf=5, min_samples_split=10, n_estimators=100)\n",
    "model.fit(X_train_encoded, y_train_resampled)\n",
    "\n",
    "# Make predictions\n",
    "train_preds = model.predict(X_train_encoded)\n",
    "test_preds = model.predict(X_test_encoded)\n",
    "\n",
    "# Print classification report for training data\n",
    "print(\"Training Classification Report:\")\n",
    "print(classification_report(y_train_resampled, train_preds))\n",
    "\n",
    "# Print classification report for test data\n",
    "print(\"Test Classification Report:\")\n",
    "print(classification_report(y_test, test_preds))\n",
    "\n",
    "# Print confusion matrices\n",
    "print(\"Training Confusion Matrix:\")\n",
    "print(confusion_matrix(y_train_resampled, train_preds))\n",
    "print(\"Test Confusion Matrix:\")\n",
    "print(confusion_matrix(y_test, test_preds))\n",
    "\n",
    "# Print AUC-ROC scores\n",
    "print(\"Training AUC-ROC Score:\")\n",
    "print(roc_auc_score(y_train_resampled, model.predict_proba(X_train_encoded)[:, 1]))\n",
    "print(\"Test AUC-ROC Score:\")\n",
    "print(roc_auc_score(y_test, model.predict_proba(X_test_encoded)[:, 1]))"
   ]
  },
  {
   "attachments": {},
   "cell_type": "markdown",
   "metadata": {},
   "source": [
    "Random Forest Model V3"
   ]
  },
  {
   "cell_type": "code",
   "execution_count": 257,
   "metadata": {},
   "outputs": [
    {
     "name": "stdout",
     "output_type": "stream",
     "text": [
      "Training Classification Report:\n",
      "              precision    recall  f1-score   support\n",
      "\n",
      "          No       0.90      0.81      0.85      4138\n",
      "         Yes       0.82      0.91      0.86      4138\n",
      "\n",
      "    accuracy                           0.86      8276\n",
      "   macro avg       0.86      0.86      0.86      8276\n",
      "weighted avg       0.86      0.86      0.86      8276\n",
      "\n",
      "Test Classification Report:\n",
      "              precision    recall  f1-score   support\n",
      "\n",
      "          No       0.91      0.76      0.83      1036\n",
      "         Yes       0.54      0.79      0.64       373\n",
      "\n",
      "    accuracy                           0.77      1409\n",
      "   macro avg       0.73      0.78      0.74      1409\n",
      "weighted avg       0.81      0.77      0.78      1409\n",
      "\n",
      "Training Confusion Matrix:\n",
      "[[3335  803]\n",
      " [ 374 3764]]\n",
      "Test Confusion Matrix:\n",
      "[[787 249]\n",
      " [ 77 296]]\n",
      "Training AUC-ROC Score:\n",
      "0.931699760860277\n",
      "Test AUC-ROC Score:\n",
      "0.8620907387663419\n"
     ]
    }
   ],
   "source": [
    "#Best parameters for  RandomForestClassifier()  are  {'bootstrap': True, 'max_depth': 10, 'max_features': 'sqrt', 'min_samples_leaf': 5, 'min_samples_split': 5, 'n_estimators': 100}\n",
    "#Best score for  RandomForestClassifier()  is  0.8029813979804603\n",
    "model = RandomForestClassifier(bootstrap=True, max_depth=10, max_features='sqrt', \n",
    "                               min_samples_leaf=5, min_samples_split=5, n_estimators=100)\n",
    "model.fit(X_train_encoded, y_train_resampled)\n",
    "\n",
    "# Make predictions\n",
    "train_preds = model.predict(X_train_encoded)\n",
    "test_preds = model.predict(X_test_encoded)\n",
    "\n",
    "# Print classification report for training data\n",
    "print(\"Training Classification Report:\")\n",
    "print(classification_report(y_train_resampled, train_preds))\n",
    "\n",
    "# Print classification report for test data\n",
    "print(\"Test Classification Report:\")\n",
    "print(classification_report(y_test, test_preds))\n",
    "\n",
    "# Print confusion matrices\n",
    "print(\"Training Confusion Matrix:\")\n",
    "print(confusion_matrix(y_train_resampled, train_preds))\n",
    "print(\"Test Confusion Matrix:\")\n",
    "print(confusion_matrix(y_test, test_preds))\n",
    "\n",
    "# Print AUC-ROC scores\n",
    "print(\"Training AUC-ROC Score:\")\n",
    "print(roc_auc_score(y_train_resampled, model.predict_proba(X_train_encoded)[:, 1]))\n",
    "print(\"Test AUC-ROC Score:\")\n",
    "print(roc_auc_score(y_test, model.predict_proba(X_test_encoded)[:, 1]))"
   ]
  },
  {
   "attachments": {},
   "cell_type": "markdown",
   "metadata": {},
   "source": [
    "Random Forest Model V4"
   ]
  },
  {
   "cell_type": "code",
   "execution_count": 258,
   "metadata": {},
   "outputs": [
    {
     "name": "stdout",
     "output_type": "stream",
     "text": [
      "Training Classification Report:\n",
      "              precision    recall  f1-score   support\n",
      "\n",
      "          No       0.96      0.90      0.93      4138\n",
      "         Yes       0.91      0.96      0.93      4138\n",
      "\n",
      "    accuracy                           0.93      8276\n",
      "   macro avg       0.93      0.93      0.93      8276\n",
      "weighted avg       0.93      0.93      0.93      8276\n",
      "\n",
      "Test Classification Report:\n",
      "              precision    recall  f1-score   support\n",
      "\n",
      "          No       0.89      0.80      0.84      1036\n",
      "         Yes       0.57      0.72      0.63       373\n",
      "\n",
      "    accuracy                           0.78      1409\n",
      "   macro avg       0.73      0.76      0.74      1409\n",
      "weighted avg       0.80      0.78      0.79      1409\n",
      "\n",
      "Training Confusion Matrix:\n",
      "[[3733  405]\n",
      " [ 159 3979]]\n",
      "Test Confusion Matrix:\n",
      "[[830 206]\n",
      " [105 268]]\n",
      "Training AUC-ROC Score:\n",
      "0.9862513639514096\n",
      "Test AUC-ROC Score:\n",
      "0.8465949672383989\n"
     ]
    }
   ],
   "source": [
    "#Best parameters for  RandomForestClassifier()  are  {'bootstrap': True, 'max_depth': 30, 'max_features': 0.5, 'min_samples_leaf': 5, 'min_samples_split': 10, 'n_estimators': 100}\n",
    "model = RandomForestClassifier(bootstrap=True, max_depth=30, max_features=0.5, \n",
    "                               min_samples_leaf=5, min_samples_split=10, n_estimators=100)\n",
    "model.fit(X_train_encoded, y_train_resampled)\n",
    "\n",
    "# Make predictions\n",
    "train_preds = model.predict(X_train_encoded)\n",
    "test_preds = model.predict(X_test_encoded)\n",
    "\n",
    "# Print classification report for training data\n",
    "print(\"Training Classification Report:\")\n",
    "print(classification_report(y_train_resampled, train_preds))\n",
    "\n",
    "# Print classification report for test data\n",
    "print(\"Test Classification Report:\")\n",
    "print(classification_report(y_test, test_preds))\n",
    "\n",
    "# Print confusion matrices\n",
    "print(\"Training Confusion Matrix:\")\n",
    "print(confusion_matrix(y_train_resampled, train_preds))\n",
    "print(\"Test Confusion Matrix:\")\n",
    "print(confusion_matrix(y_test, test_preds))\n",
    "\n",
    "# Print AUC-ROC scores\n",
    "print(\"Training AUC-ROC Score:\")\n",
    "print(roc_auc_score(y_train_resampled, model.predict_proba(X_train_encoded)[:, 1]))\n",
    "print(\"Test AUC-ROC Score:\")\n",
    "print(roc_auc_score(y_test, model.predict_proba(X_test_encoded)[:, 1]))"
   ]
  },
  {
   "cell_type": "code",
   "execution_count": null,
   "metadata": {},
   "outputs": [],
   "source": [
    "joblib.dump(encoder,'encoder.joblib')"
   ]
  },
  {
   "cell_type": "code",
   "execution_count": null,
   "metadata": {},
   "outputs": [],
   "source": [
    "#saving the model\n",
    "from joblib import dump\n",
    "\n",
    "# assuming model is your trained model\n",
    "dump(model, 'model.joblib')"
   ]
  },
  {
   "attachments": {},
   "cell_type": "markdown",
   "metadata": {},
   "source": [
    "Logistic Regression"
   ]
  },
  {
   "cell_type": "code",
   "execution_count": null,
   "metadata": {},
   "outputs": [],
   "source": [
    "model = LogisticRegression(max_iter=1000,C= 1, penalty= 'l2', solver= 'sag')\n",
    "model.fit(X_train_encoded, y_train_resampled)\n",
    "\n",
    "# Make predictions\n",
    "train_preds = model.predict(X_train_encoded)\n",
    "test_preds = model.predict(X_test_encoded)\n",
    "\n",
    "# Print classification report for training data\n",
    "print(\"Training Classification Report:\")\n",
    "print(classification_report(y_train_resampled, train_preds))\n",
    "\n",
    "# Print classification report for test data\n",
    "print(\"Test Classification Report:\")\n",
    "print(classification_report(y_test, test_preds))\n",
    "\n",
    "# Print confusion matrices\n",
    "print(\"Training Confusion Matrix:\")\n",
    "print(confusion_matrix(y_train_resampled, train_preds))\n",
    "print(\"Test Confusion Matrix:\")\n",
    "print(confusion_matrix(y_test, test_preds))\n",
    "\n",
    "# Print AUC-ROC scores\n",
    "print(\"Training AUC-ROC Score:\")\n",
    "print(roc_auc_score(y_train_resampled, model.predict_proba(X_train_encoded)[:, 1]))\n",
    "print(\"Test AUC-ROC Score:\")\n",
    "print(roc_auc_score(y_test, model.predict_proba(X_test_encoded)[:, 1]))"
   ]
  },
  {
   "cell_type": "code",
   "execution_count": null,
   "metadata": {},
   "outputs": [],
   "source": [
    "X_train_encoded.columns"
   ]
  },
  {
   "attachments": {},
   "cell_type": "markdown",
   "metadata": {},
   "source": [
    "## Model Test: Logistic Regression"
   ]
  },
  {
   "cell_type": "code",
   "execution_count": null,
   "metadata": {},
   "outputs": [],
   "source": [
    "# from sklearn.linear_model import LogisticRegression\n",
    "# classifier = LogisticRegression(solver='lbfgs', random_state=1,max_iter=500)"
   ]
  },
  {
   "cell_type": "code",
   "execution_count": null,
   "metadata": {},
   "outputs": [],
   "source": [
    "# classifier.fit(X_train_encoded, y_train)"
   ]
  },
  {
   "attachments": {},
   "cell_type": "markdown",
   "metadata": {},
   "source": [
    "The score isn't bad, but let's see if we can do better."
   ]
  },
  {
   "cell_type": "code",
   "execution_count": null,
   "metadata": {},
   "outputs": [],
   "source": [
    "# # Score the model\n",
    "# print(f\"Training Data Score: {classifier.score(X_train_encoded, y_train)}\")\n",
    "# print(f\"Testing Data Score: {classifier.score(X_test_encoded, y_test)}\")"
   ]
  },
  {
   "attachments": {},
   "cell_type": "markdown",
   "metadata": {},
   "source": [
    "## Logistic Regression V2"
   ]
  },
  {
   "cell_type": "code",
   "execution_count": null,
   "metadata": {},
   "outputs": [],
   "source": []
  }
 ],
 "metadata": {
  "kernelspec": {
   "display_name": "base",
   "language": "python",
   "name": "python3"
  },
  "language_info": {
   "codemirror_mode": {
    "name": "ipython",
    "version": 3
   },
   "file_extension": ".py",
   "mimetype": "text/x-python",
   "name": "python",
   "nbconvert_exporter": "python",
   "pygments_lexer": "ipython3",
   "version": "3.9.13"
  },
  "orig_nbformat": 4
 },
 "nbformat": 4,
 "nbformat_minor": 2
}
